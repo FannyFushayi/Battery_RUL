{
 "cells": [
  {
   "cell_type": "markdown",
   "metadata": {
    "id": "Q5DK5TA-Pdup"
   },
   "source": [
    "The dataset is on kaggle and to export the data to our platform we use this code  \"Given to us in Kagge\"\n",
    "\n",
    "About Dataset\n",
    "The Hawaii Natural Energy Institute examined 14 NMC-LCO 18650 batteries with a nominal capacity of 2.8 Ah, which were cycled over 1000 times at 25°C with a CC-CV charge rate of C/2 rate and discharge rate of 1.5C.\n",
    "\n",
    "From that source dataset, I created features that showcase the voltage and current behaviour over each cycle. Those features can be used to predict the remaining useful life (RUL) of the batteries. The dataset contains the summary of the 14 batteries.\n",
    "\n",
    "Variables:\n",
    "\n",
    "Cycle Index: number of cycle\n",
    "F1: Discharge Time (s)\n",
    "F2: Time at 4.15V (s)\n",
    "F3: Time Constant Current (s)\n",
    "F4: Decrement 3.6-3.4V (s)\n",
    "F5: Max. Voltage Discharge (V)\n",
    "F6: Min. Voltage Charge (V)\n",
    "F7: Charging Time (s)\n",
    "Total time (s)\n",
    "RUL: target"
   ]
  },
  {
   "cell_type": "code",
   "execution_count": null,
   "metadata": {},
   "outputs": [],
   "source": [
    "import kagglehub\n",
    "\n",
    "# Download latest version\n",
    "path = kagglehub.dataset_download(\"ignaciovinuales/battery-remaining-useful-life-rul\")\n",
    "\n",
    "print(\"Path to dataset files:\", path)"
   ]
  },
  {
   "cell_type": "markdown",
   "metadata": {
    "id": "84bQktQmPr5M"
   },
   "source": [
    "The file is imported as a folder and we need to find the specific csv file within the data"
   ]
  },
  {
   "cell_type": "code",
   "execution_count": null,
   "metadata": {},
   "outputs": [],
   "source": [
    "import os\n",
    "\n",
    "#list the files in the downloaded directory and state how many csv files there are\n",
    "\n",
    "downloaded_directory = path\n",
    "files_in_directory = os.listdir(downloaded_directory)\n",
    "\n",
    "print(\"Files in the downloaded directory:\")\n",
    "i = 0\n",
    "for file_name in files_in_directory:\n",
    "    if file_name.endswith(\".csv\"):\n",
    "        i += 1\n",
    "        print(file_name)\n",
    "\n",
    "print(\"Number of CSV files:\", i)\n",
    "\n"
   ]
  },
  {
   "cell_type": "code",
   "execution_count": null,
   "metadata": {},
   "outputs": [],
   "source": [
    "import pandas as pd\n",
    "\n",
    "HNEI_df = pd.read_csv(path+ '/Battery_RUL.csv')\n",
    "HNEI_df.head()"
   ]
  },
  {
   "cell_type": "code",
   "execution_count": null,
   "metadata": {},
   "outputs": [],
   "source": [
    "HNEI_df.info()"
   ]
  },
  {
   "cell_type": "markdown",
   "metadata": {
    "id": "V4mmU5oLPcxf"
   },
   "source": []
  },
  {
   "cell_type": "code",
   "execution_count": null,
   "metadata": {},
   "outputs": [],
   "source": [
    "HNEI_df.describe()"
   ]
  },
  {
   "cell_type": "code",
   "execution_count": null,
   "metadata": {},
   "outputs": [],
   "source": [
    "HNEI_df.isnull().sum() #figure out if we have any missing data"
   ]
  },
  {
   "cell_type": "code",
   "execution_count": null,
   "metadata": {},
   "outputs": [],
   "source": [
    "HNEI_df.duplicated().sum() #figure out if we have any duplicates"
   ]
  },
  {
   "cell_type": "code",
   "execution_count": null,
   "metadata": {},
   "outputs": [],
   "source": [
    "HNEI_df.corr()"
   ]
  },
  {
   "cell_type": "code",
   "execution_count": null,
   "metadata": {},
   "outputs": [],
   "source": [
    "import numpy as np\n",
    "HNEI_df.corr()['RUL'].sort_values( key = np.abs, ascending= False) #it seems it's all in the rate of charge and discharge"
   ]
  },
  {
   "cell_type": "code",
   "execution_count": null,
   "metadata": {},
   "outputs": [],
   "source": [
    "HNEI_df.value_counts('Cycle_Index')"
   ]
  },
  {
   "cell_type": "code",
   "execution_count": null,
   "metadata": {},
   "outputs": [],
   "source": [
    "import matplotlib.pyplot as plt\n",
    "import seaborn as sns\n",
    "\n",
    "HNEI_df.hist(bins=50, figsize=(20,15))\n",
    "plt.show()\n"
   ]
  },
  {
   "cell_type": "code",
   "execution_count": null,
   "metadata": {},
   "outputs": [],
   "source": [
    "sns.pairplot(HNEI_df)\n",
    "plt.show()"
   ]
  },
  {
   "cell_type": "code",
   "execution_count": null,
   "metadata": {},
   "outputs": [],
   "source": [
    "sns.heatmap(HNEI_df.corr(), annot=True)\n"
   ]
  },
  {
   "cell_type": "code",
   "execution_count": null,
   "metadata": {},
   "outputs": [],
   "source": [
    "HNEI_df.columns"
   ]
  },
  {
   "cell_type": "code",
   "execution_count": null,
   "metadata": {},
   "outputs": [],
   "source": [
    "HNEI_df['Cycle_Index'].hist( bins=50, figsize=(20,15))\n",
    "plt.show()"
   ]
  },
  {
   "cell_type": "code",
   "execution_count": null,
   "metadata": {},
   "outputs": [],
   "source": [
    "Batter_indices = HNEI_df[HNEI_df['Cycle_Index']==1].index #There is 14 0f them I can group these batteries"
   ]
  },
  {
   "cell_type": "code",
   "execution_count": null,
   "metadata": {},
   "outputs": [],
   "source": [
    "Batter_indices"
   ]
  },
  {
   "cell_type": "code",
   "execution_count": null,
   "metadata": {},
   "outputs": [],
   "source": [
    "HNEI_df.loc[0:1076-1]"
   ]
  },
  {
   "cell_type": "code",
   "execution_count": null,
   "metadata": {},
   "outputs": [],
   "source": [
    "x = 0\n",
    "prev = 0\n",
    "for value in Batter_indices:\n",
    "  value = value -1\n",
    "  Battery_df = HNEI_df.loc[prev :value]\n",
    "  prev = value\n",
    "  Battery_df.to_csv(f'Battery_{x}.csv', index=False)\n",
    "  x += 1\n",
    "\n"
   ]
  },
  {
   "cell_type": "code",
   "execution_count": null,
   "metadata": {},
   "outputs": [],
   "source": [
    "battery_1 = pd.read_csv('Battery_1.csv')\n",
    "battery_1"
   ]
  },
  {
   "cell_type": "code",
   "execution_count": null,
   "metadata": {},
   "outputs": [],
   "source": [
    "battery_id = 0\n",
    "\n",
    "def add_id(Cycle_Index):\n",
    "  global battery_id\n",
    "  if Cycle_Index == 1:\n",
    "    battery_id = battery_id +1\n",
    "  return battery_id\n",
    "\n",
    "\n",
    "HNEI_df['battery_id'] = HNEI_df['Cycle_Index'].apply(add_id)\n"
   ]
  },
  {
   "cell_type": "code",
   "execution_count": null,
   "metadata": {},
   "outputs": [],
   "source": [
    "HNEI_df"
   ]
  },
  {
   "cell_type": "code",
   "execution_count": null,
   "metadata": {},
   "outputs": [],
   "source": [
    "HNEI_df[HNEI_df['Cycle_Index']==1] #There is 14 0f them I can group these batteries"
   ]
  },
  {
   "cell_type": "code",
   "execution_count": null,
   "metadata": {},
   "outputs": [],
   "source": [
    "HNEI_df.corr()"
   ]
  },
  {
   "cell_type": "code",
   "execution_count": null,
   "metadata": {},
   "outputs": [],
   "source": [
    "for i in range (1,15):\n",
    "  max = HNEI_df[HNEI_df['battery_id']==i]['RUL'].max()\n",
    "  print(f'for battery {i} the max is {max}')"
   ]
  },
  {
   "cell_type": "code",
   "execution_count": null,
   "metadata": {},
   "outputs": [],
   "source": [
    "#HNEI_df.drop(['Cycle_Index'], axis = 1, inplace = True)\n",
    "HNEI_df"
   ]
  },
  {
   "cell_type": "code",
   "execution_count": null,
   "metadata": {},
   "outputs": [],
   "source": [
    "# I want to split the data by removing a certain percentage of each battery at the end not randomly\n",
    "x = HNEI_df.drop(['RUL'], axis = 1)\n",
    "y = HNEI_df['RUL']"
   ]
  },
  {
   "cell_type": "code",
   "execution_count": null,
   "metadata": {},
   "outputs": [],
   "source": [
    "x[x['battery_id'] == 1].tail(10).index"
   ]
  },
  {
   "cell_type": "code",
   "execution_count": null,
   "metadata": {},
   "outputs": [],
   "source": [
    "#let's make the indices for the test sets\n",
    "\n",
    "test_indices = []\n",
    "\n",
    "for i in range (1,15):\n",
    "   test_index = test_indices.append(x[x['battery_id'] == i].tail(200).index)\n",
    "\n"
   ]
  },
  {
   "cell_type": "code",
   "execution_count": null,
   "metadata": {},
   "outputs": [],
   "source": [
    "# Flatten the list of Index objects into a single list of indices\n",
    "flat_test_indices = [idx for index_list in test_indices for idx in index_list]\n",
    "\n",
    "# Select the rows using the flattened list of indices\n",
    "x.loc[flat_test_indices]"
   ]
  },
  {
   "cell_type": "code",
   "execution_count": null,
   "metadata": {},
   "outputs": [],
   "source": [
    "y"
   ]
  },
  {
   "cell_type": "code",
   "execution_count": null,
   "metadata": {},
   "outputs": [],
   "source": [
    "#Okay let's start of with a linear Regression Model"
   ]
  },
  {
   "cell_type": "code",
   "execution_count": null,
   "metadata": {},
   "outputs": [],
   "source": [
    "# Select the corresponding rows for y using the flattened list of indices\n",
    "y_test = y.loc[flat_test_indices]\n",
    "\n",
    "# Select the test sets for x\n",
    "x_test = x.loc[flat_test_indices]\n",
    "\n",
    "# Create the training indices by dropping the test indices from the original index\n",
    "train_indices = x.index.drop(flat_test_indices)\n",
    "\n",
    "# Select the training sets for x and y\n",
    "x_train = x.loc[train_indices]\n",
    "y_train = y.loc[train_indices]\n",
    "\n",
    "print(\"Shape of x_train:\", x_train.shape)\n",
    "print(\"Shape of x_test:\", x_test.shape)\n",
    "print(\"Shape of y_train:\", y_train.shape)\n",
    "print(\"Shape of y_test:\", y_test.shape)"
   ]
  },
  {
   "cell_type": "code",
   "execution_count": null,
   "metadata": {},
   "outputs": [],
   "source": [
    "x_test"
   ]
  },
  {
   "cell_type": "code",
   "execution_count": null,
   "metadata": {},
   "outputs": [],
   "source": [
    "y_test"
   ]
  },
  {
   "cell_type": "code",
   "execution_count": null,
   "metadata": {},
   "outputs": [],
   "source": [
    "#the model as you will see below is very terrible, but that is the first iteration I will pycaret to make the iterating faster from now on\n",
    "from sklearn.linear_model import LinearRegression\n",
    "\n",
    "model = LinearRegression()\n",
    "model.fit(x_train, y_train)"
   ]
  },
  {
   "cell_type": "code",
   "execution_count": null,
   "metadata": {},
   "outputs": [],
   "source": [
    "predictions = model.predict(x_test)"
   ]
  },
  {
   "cell_type": "code",
   "execution_count": null,
   "metadata": {},
   "outputs": [],
   "source": [
    "from sklearn.metrics import mean_squared_error, r2_score\n",
    "\n",
    "# Calculate the Mean Squared Error (MSE)\n",
    "mse = mean_squared_error(y_test, predictions)\n",
    "\n",
    "# Calculate the R-squared (R2) score\n",
    "r2 = r2_score(y_test, predictions)"
   ]
  },
  {
   "cell_type": "code",
   "execution_count": null,
   "metadata": {},
   "outputs": [],
   "source": [
    "print(\"Mean Squared Error (MSE):\", mse)\n",
    "print(\"R-squared (R2) Score:\", r2)"
   ]
  },
  {
   "cell_type": "code",
   "execution_count": null,
   "metadata": {},
   "outputs": [],
   "source": [
    "HNEI_df.drop(['Cycle_Index'], axis = 1, inplace = True) # this will cause extreme data leakage but I also have the batteryID"
   ]
  },
  {
   "cell_type": "code",
   "execution_count": null,
   "metadata": {},
   "outputs": [],
   "source": [
    "from pycaret.regression import *\n",
    "exp_reg = setup(HNEI_df, target = 'RUL', verbose=False, session_id=1)"
   ]
  },
  {
   "cell_type": "code",
   "execution_count": null,
   "metadata": {},
   "outputs": [],
   "source": [
    "%pip install pycaret"
   ]
  },
  {
   "cell_type": "code",
   "execution_count": null,
   "metadata": {},
   "outputs": [],
   "source": [
    "# Compare different regression models\n",
    "best_model = compare_models()"
   ]
  },
  {
   "cell_type": "code",
   "execution_count": null,
   "metadata": {},
   "outputs": [],
   "source": [
    "# Create Extra Trees Regressor model\n",
    "et = create_model('et')"
   ]
  },
  {
   "cell_type": "code",
   "execution_count": null,
   "metadata": {},
   "outputs": [],
   "source": [
    "# Make predictions on the test set\n",
    "predictions = predict_model(et)"
   ]
  },
  {
   "cell_type": "code",
   "execution_count": null,
   "metadata": {},
   "outputs": [],
   "source": [
    "import matplotlib.pyplot as plt\n",
    "import seaborn as sns\n",
    "\n",
    "# Create a scatter plot of actual vs. predicted RUL\n",
    "plt.figure(figsize=(10, 6))\n",
    "sns.scatterplot(x='RUL', y='prediction_label', data=predictions)\n",
    "plt.xlabel(\"Actual RUL\")\n",
    "plt.ylabel(\"Predicted RUL\")\n",
    "plt.title(\"Actual vs. Predicted RUL (Extra Trees Regressor)\")\n",
    "plt.show()"
   ]
  },
  {
   "cell_type": "code",
   "execution_count": null,
   "metadata": {},
   "outputs": [],
   "source": [
    "rf = create_model('rf')\n",
    "light = create_model('lightgbm')"
   ]
  },
  {
   "cell_type": "code",
   "execution_count": null,
   "metadata": {},
   "outputs": [],
   "source": [
    "ensem = blend_models(estimator_list = [rf, light, et])"
   ]
  },
  {
   "cell_type": "code",
   "execution_count": null,
   "metadata": {},
   "outputs": [],
   "source": []
  }
 ],
 "metadata": {
  "language_info": {
   "name": "python"
  }
 },
 "nbformat": 4,
 "nbformat_minor": 0
}
